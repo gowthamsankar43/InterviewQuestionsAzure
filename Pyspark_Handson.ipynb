{
 "cells": [
  {
   "cell_type": "code",
   "execution_count": 1,
   "id": "14792af3-10c7-4b45-ae32-67fefb0a1929",
   "metadata": {},
   "outputs": [
    {
     "name": "stdout",
     "output_type": "stream",
     "text": [
      "+-------+----------+---------+\n",
      "|ActorId|DirectorId|timestamp|\n",
      "+-------+----------+---------+\n",
      "|      1|         1|        0|\n",
      "|      1|         1|        1|\n",
      "|      1|         1|        2|\n",
      "|      1|         2|        3|\n",
      "|      1|         2|        4|\n",
      "|      2|         1|        5|\n",
      "|      2|         1|        6|\n",
      "+-------+----------+---------+\n",
      "\n",
      "+-------+----------+\n",
      "|ActorId|DirectorId|\n",
      "+-------+----------+\n",
      "|      1|         1|\n",
      "+-------+----------+\n",
      "\n"
     ]
    }
   ],
   "source": [
    "from pyspark.sql import SparkSession\n",
    "from pyspark.sql.types import *\n",
    "from pyspark.sql.functions import *\n",
    "\n",
    "spark = SparkSession.builder.appName(\"Pysparkquestions\").master(\"local[*]\").getOrCreate()\n",
    "spark\n",
    "\n",
    "schema = StructType([ \n",
    " StructField(\"ActorId\",IntegerType(),True), \n",
    " StructField(\"DirectorId\",IntegerType(),True), \n",
    " StructField(\"timestamp\",IntegerType(),True) \n",
    "]) \n",
    "  \n",
    "data = [ \n",
    " (1, 1, 0), \n",
    " (1, 1, 1), \n",
    " (1, 1, 2), \n",
    " (1, 2, 3), \n",
    " (1, 2, 4), \n",
    " (2, 1, 5), \n",
    " (2, 1, 6) \n",
    "] \n",
    "df = spark.createDataFrame(data = data,schema =schema)\n",
    "df.show()\n",
    "\n",
    "df_grouped = df.groupBy(\"ActorId\",\"DirectorId\").count()\n",
    "df_grouped.filter(df_grouped[\"count\"]>=3).select(\"ActorId\",\"DirectorId\").show()"
   ]
  },
  {
   "cell_type": "code",
   "execution_count": 3,
   "id": "7539d759-313b-4513-b42a-23c43d555d14",
   "metadata": {},
   "outputs": [
    {
     "name": "stdout",
     "output_type": "stream",
     "text": [
      "+-------+------+------+\n",
      "|   Name|Hrdept|Salary|\n",
      "+-------+------+------+\n",
      "|  Alice|    HR| 50000|\n",
      "|Charlie|    HR| 55000|\n",
      "+-------+------+------+\n",
      "\n"
     ]
    }
   ],
   "source": [
    "from pyspark.sql import SparkSession\n",
    "\n",
    "from pyspark.sql.types import *\n",
    "from pyspark.sql.functions import *\n",
    "\n",
    "spark = SparkSession.builder.appName(\"Pyspark_handson\").master(\"local[*]\").getOrCreate()\n",
    "\n",
    "df = spark.read.format(\"csv\").option(\"inferSchema\",True).option(\"header\",True).load(\"Data/Workersdata.csv\")\n",
    "df.filter(df[\"Department\"]=='HR').withColumnRenamed(\"Department\",\"Hrdept\").show()"
   ]
  },
  {
   "cell_type": "code",
   "execution_count": 8,
   "id": "9e6cd76f-b9d7-4ccd-8bfa-621ddb351e5b",
   "metadata": {},
   "outputs": [
    {
     "ename": "AttributeError",
     "evalue": "'SparkSession' object has no attribute 'Rdd'",
     "output_type": "error",
     "traceback": [
      "\u001b[1;31m---------------------------------------------------------------------------\u001b[0m",
      "\u001b[1;31mAttributeError\u001b[0m                            Traceback (most recent call last)",
      "Cell \u001b[1;32mIn[8], line 7\u001b[0m\n\u001b[0;32m      3\u001b[0m \u001b[38;5;28;01mfrom\u001b[39;00m \u001b[38;5;21;01mpyspark\u001b[39;00m\u001b[38;5;21;01m.\u001b[39;00m\u001b[38;5;21;01msql\u001b[39;00m \u001b[38;5;28;01mimport\u001b[39;00m SparkSession\n\u001b[0;32m      5\u001b[0m spark \u001b[38;5;241m=\u001b[39m SparkSession\u001b[38;5;241m.\u001b[39mbuilder\u001b[38;5;241m.\u001b[39mappName(\u001b[38;5;124m\"\u001b[39m\u001b[38;5;124mHandson\u001b[39m\u001b[38;5;124m\"\u001b[39m)\u001b[38;5;241m.\u001b[39mmaster(\u001b[38;5;124m'\u001b[39m\u001b[38;5;124mlocal[0]\u001b[39m\u001b[38;5;124m'\u001b[39m)\u001b[38;5;241m.\u001b[39mgetOrCreate()\n\u001b[1;32m----> 7\u001b[0m \u001b[43mspark\u001b[49m\u001b[38;5;241;43m.\u001b[39;49m\u001b[43mRdd\u001b[49m()\u001b[38;5;241m.\u001b[39mgetNumPartitions()\n",
      "\u001b[1;31mAttributeError\u001b[0m: 'SparkSession' object has no attribute 'Rdd'"
     ]
    }
   ],
   "source": [
    "#1. Creating DataFrame Manually with Hardcoded Values: \n",
    "\n",
    "from pyspark.sql import SparkSession\n",
    "\n",
    "spark = SparkSession.builder.appName(\"Handson\").master('local[0]').getOrCreate()\n",
    "\n",
    "spark.Rdd().getNumPartitions()\n"
   ]
  },
  {
   "cell_type": "code",
   "execution_count": null,
   "id": "34ad4050-2a1e-4155-8951-6bde4b07673d",
   "metadata": {},
   "outputs": [],
   "source": []
  }
 ],
 "metadata": {
  "kernelspec": {
   "display_name": "Python 3 (ipykernel)",
   "language": "python",
   "name": "python3"
  },
  "language_info": {
   "codemirror_mode": {
    "name": "ipython",
    "version": 3
   },
   "file_extension": ".py",
   "mimetype": "text/x-python",
   "name": "python",
   "nbconvert_exporter": "python",
   "pygments_lexer": "ipython3",
   "version": "3.10.0"
  }
 },
 "nbformat": 4,
 "nbformat_minor": 5
}
