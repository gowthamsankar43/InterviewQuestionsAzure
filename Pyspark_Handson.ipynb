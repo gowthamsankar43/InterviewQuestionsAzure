{
 "cells": [
  {
   "cell_type": "code",
   "execution_count": 1,
   "id": "14792af3-10c7-4b45-ae32-67fefb0a1929",
   "metadata": {},
   "outputs": [
    {
     "name": "stdout",
     "output_type": "stream",
     "text": [
      "+-------+----------+---------+\n",
      "|ActorId|DirectorId|timestamp|\n",
      "+-------+----------+---------+\n",
      "|      1|         1|        0|\n",
      "|      1|         1|        1|\n",
      "|      1|         1|        2|\n",
      "|      1|         2|        3|\n",
      "|      1|         2|        4|\n",
      "|      2|         1|        5|\n",
      "|      2|         1|        6|\n",
      "+-------+----------+---------+\n",
      "\n",
      "+-------+----------+\n",
      "|ActorId|DirectorId|\n",
      "+-------+----------+\n",
      "|      1|         1|\n",
      "+-------+----------+\n",
      "\n"
     ]
    }
   ],
   "source": [
    "from pyspark.sql import SparkSession\n",
    "from pyspark.sql.types import *\n",
    "from pyspark.sql.functions import *\n",
    "\n",
    "spark = SparkSession.builder.appName(\"Pysparkquestions\").master(\"local[*]\").getOrCreate()\n",
    "spark\n",
    "\n",
    "schema = StructType([ \n",
    " StructField(\"ActorId\",IntegerType(),True), \n",
    " StructField(\"DirectorId\",IntegerType(),True), \n",
    " StructField(\"timestamp\",IntegerType(),True) \n",
    "]) \n",
    "  \n",
    "data = [ \n",
    " (1, 1, 0), \n",
    " (1, 1, 1), \n",
    " (1, 1, 2), \n",
    " (1, 2, 3), \n",
    " (1, 2, 4), \n",
    " (2, 1, 5), \n",
    " (2, 1, 6) \n",
    "] \n",
    "df = spark.createDataFrame(data = data,schema =schema)\n",
    "df.show()\n",
    "\n",
    "df_grouped = df.groupBy(\"ActorId\",\"DirectorId\").count()\n",
    "df_grouped.filter(df_grouped[\"count\"]>=3).select(\"ActorId\",\"DirectorId\").show()"
   ]
  },
  {
   "cell_type": "code",
   "execution_count": 15,
   "id": "7539d759-313b-4513-b42a-23c43d555d14",
   "metadata": {},
   "outputs": [],
   "source": [
    "from pyspark.sql import SparkSession\n",
    "\n",
    "from pyspark.sql.types import *\n",
    "from pyspark.sql.functions import *\n",
    "\n",
    "spark = SparkSession.builder.appName(\"Pyspark_handson\").master(\"local[*]\").getOrCreate()\n",
    "\n",
    "df = spark.read.format(\"csv\").option(\"inferSchema\",True).option(\"header\",True).load(\"Data/Workersdata.csv\")\n",
    "#df.filter(df[\"Department\"]=='HR').withColumnRenamed(\"Department\",\"Hrdept\").show()"
   ]
  },
  {
   "cell_type": "code",
   "execution_count": null,
   "id": "cee99b1d-927e-45f4-ac42-64f2e342fd63",
   "metadata": {},
   "outputs": [],
   "source": []
  }
 ],
 "metadata": {
  "kernelspec": {
   "display_name": "Python 3 (ipykernel)",
   "language": "python",
   "name": "python3"
  },
  "language_info": {
   "codemirror_mode": {
    "name": "ipython",
    "version": 3
   },
   "file_extension": ".py",
   "mimetype": "text/x-python",
   "name": "python",
   "nbconvert_exporter": "python",
   "pygments_lexer": "ipython3",
   "version": "3.10.0"
  }
 },
 "nbformat": 4,
 "nbformat_minor": 5
}
