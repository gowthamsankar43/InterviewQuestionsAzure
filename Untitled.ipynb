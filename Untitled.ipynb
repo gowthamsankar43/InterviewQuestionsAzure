{
 "cells": [
  {
   "cell_type": "markdown",
   "id": "560d6ed1-63a0-428f-9764-be6a188a8503",
   "metadata": {},
   "source": [
    "Remove duplicates from sorted array\n",
    "arr =[1,2,3,4,4,5,6,7,7,7,8,9,10,24,34,34]\n"
   ]
  },
  {
   "cell_type": "code",
   "execution_count": 10,
   "id": "24c42c8c-e3a4-4aa8-8755-5126a89cdc8a",
   "metadata": {
    "editable": true,
    "slideshow": {
     "slide_type": ""
    },
    "tags": []
   },
   "outputs": [
    {
     "data": {
      "text/plain": [
       "15"
      ]
     },
     "execution_count": 10,
     "metadata": {},
     "output_type": "execute_result"
    }
   ],
   "source": [
    "class Solution:\n",
    "    def remove_duplicates(nums:list[int])-> int:\n",
    "        n = len(arr)\n",
    "        i = 1\n",
    "        for j in range(1,n):\n",
    "            if nums[j] != nums[i-1]:\n",
    "                nums[j] = nums[i]\n",
    "                i +=1\n",
    "        return i\n",
    "\n",
    "arr =[1,2,3,4,4,5,6,7,7,7,8,9,10,24,34,34]\n",
    "Solution.remove_duplicates(arr)"
   ]
  },
  {
   "cell_type": "code",
   "execution_count": null,
   "id": "1c68ff9f-2843-4fc2-a0c7-bf18ce727619",
   "metadata": {},
   "outputs": [],
   "source": []
  }
 ],
 "metadata": {
  "kernelspec": {
   "display_name": "Python 3 (ipykernel)",
   "language": "python",
   "name": "python3"
  },
  "language_info": {
   "codemirror_mode": {
    "name": "ipython",
    "version": 3
   },
   "file_extension": ".py",
   "mimetype": "text/x-python",
   "name": "python",
   "nbconvert_exporter": "python",
   "pygments_lexer": "ipython3",
   "version": "3.10.0"
  }
 },
 "nbformat": 4,
 "nbformat_minor": 5
}
